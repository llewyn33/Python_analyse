{
 "cells": [
  {
   "cell_type": "code",
   "execution_count": null,
   "metadata": {},
   "outputs": [],
   "source": [
    "from pandas import DataFrame, Series\n",
    "import pandas as pd\n",
    "import csv\n",
    "import numpy as np\n",
    "import glob\n",
    "import os"
   ]
  },
  {
   "cell_type": "code",
   "execution_count": null,
   "metadata": {},
   "outputs": [],
   "source": [
    "# 删除制表符\n",
    "import pandas as pd\n",
    "\n",
    "data = pd.read_excel('111.xlsx', encoding='gbk')\n",
    "data = data.applymap((lambda x: \"\\t\".join(x.split()) if type(x) is str else x)) \n",
    "data.to_csv('111.csv', sep=',', header=True, index=False,encoding='utf_8-sig')"
   ]
  },
  {
   "cell_type": "code",
   "execution_count": null,
   "metadata": {},
   "outputs": [],
   "source": [
    "#读取xlsx文件数量\n",
    "xlsx_list = glob.glob('*.xlsx')\n",
    "\n",
    "#遍历导入的xlsx文件，将内容读取至dataframe并生成csv文件\n",
    "for i in xlsx_list:\n",
    "    df = pd.read_excel(i)\n",
    "    df = df.applymap((lambda x: \"\\t\".join(x.split()) if type(x) is str else x)) \n",
    "    if not os.path.exists('result.csv'):\n",
    "        df.to_csv('result.csv',encoding='utf_8_sig',mode='a',index=False,index_label=False)\n",
    "    else:\n",
    "        df.to_csv('result.csv', encoding='utf_8_sig', mode='a', index=False, index_label=False,header=False)\n",
    "# 若要导出.xlsx文件，需改一下3处：\n",
    "#     1.'df.to_csv'改为'df.to_excel'，\n",
    "#     2.文件名改为'*.xlsx'，\n",
    "#     3.删掉“mode = 'a'”"
   ]
  },
  {
   "cell_type": "code",
   "execution_count": null,
   "metadata": {},
   "outputs": [],
   "source": [
    "#读取总表\n",
    "data = pd.read_csv('result.csv', encoding='utf-8')\n",
    "data"
   ]
  },
  {
   "cell_type": "code",
   "execution_count": null,
   "metadata": {},
   "outputs": [],
   "source": []
  }
 ],
 "metadata": {
  "kernelspec": {
   "display_name": "Python 3",
   "language": "python",
   "name": "python3"
  },
  "language_info": {
   "codemirror_mode": {
    "name": "ipython",
    "version": 3
   },
   "file_extension": ".py",
   "mimetype": "text/x-python",
   "name": "python",
   "nbconvert_exporter": "python",
   "pygments_lexer": "ipython3",
   "version": "3.8.8"
  }
 },
 "nbformat": 4,
 "nbformat_minor": 2
}
