{
 "cells": [
  {
   "cell_type": "code",
   "execution_count": null,
   "metadata": {},
   "outputs": [],
   "source": [
    "from pandas import DataFrame, Series\n",
    "import pandas as pd\n",
    "import jieba\n",
    "import csv\n",
    "import re\n",
    "import numpy as np\n",
    "from collections import Counter\n",
    "from pprint import pprint\n",
    "import pyecharts.options as opts\n",
    "from pyecharts.charts import Line\n",
    "from pyecharts.commons.utils import JsCode"
   ]
  },
  {
   "cell_type": "code",
   "execution_count": null,
   "metadata": {},
   "outputs": [],
   "source": [
    "#读取.csv文件\n",
    "# data = pd.read_csv('2020年7月8日至8月7日夏令数据相关工单详单.csv', encoding='gbk')\n",
    "\n",
    "#读取.xlsx文件\n",
    "data = pd.read_excel('民声（加装电梯,截止11.23）.xlsx', encoding='utf_8')\n",
    "\n",
    "#选sheet\n",
    "# sheet_name='KLS淡斑精华',"
   ]
  },
  {
   "cell_type": "code",
   "execution_count": null,
   "metadata": {},
   "outputs": [],
   "source": [
    "#数据预处理\n",
    "\n",
    "#将na填充为0\n",
    "data = data.fillna(0)\n",
    "\n",
    "#清除空值\n",
    "data.dropna(how = 'any')\n",
    "\n",
    "#清除空格\n",
    "data = data.applymap((lambda x: \"\".join(x.split()) if type(x) is str else x)) \n",
    "\n",
    "#删除某列\n",
    "# data = data.drop(['工单级别'],axis=1)\n",
    "\n",
    "#把某一列数据格式规定为字符串\n",
    "# data = data.astype({'post_create_time':'str'})"
   ]
  },
  {
   "cell_type": "code",
   "execution_count": null,
   "metadata": {
    "scrolled": true
   },
   "outputs": [],
   "source": [
    "data"
   ]
  },
  {
   "cell_type": "code",
   "execution_count": null,
   "metadata": {},
   "outputs": [],
   "source": [
    "#查看列名\n",
    "data.columns"
   ]
  },
  {
   "cell_type": "code",
   "execution_count": null,
   "metadata": {},
   "outputs": [],
   "source": [
    "#按某一列排序\n",
    "data.sort_values(by = \"date\", ascending = True)#True为升序 False为降序\n",
    "data"
   ]
  },
  {
   "cell_type": "code",
   "execution_count": null,
   "metadata": {
    "scrolled": true
   },
   "outputs": [],
   "source": [
    "#计算某一列元素的出现频次\n",
    "test = Counter(data.内容分类一)\n",
    "\n",
    "#按数量排序\n",
    "test = test.most_common()\n",
    "test = dict(test)\n",
    "test\n",
    "\n",
    "#将counter结果输出为csv文件\n",
    "# with open('test_time.csv', 'w', encoding='utf_8_sig') as f:\n",
    "#     [f.write('{0},{1}\\n'.format(key, value)) for key, value in time.items()]"
   ]
  },
  {
   "cell_type": "code",
   "execution_count": null,
   "metadata": {},
   "outputs": [],
   "source": [
    "#折线图(带区间)\n",
    "\n",
    "x_data = date.keys()\n",
    "y_data = date.values()\n",
    "\n",
    "c = (\n",
    "    Line(init_opts=opts.InitOpts(height=\"800px\"))\n",
    "    .add_xaxis(xaxis_data = x_data)\n",
    "    .add_yaxis(\n",
    "        series_name=\"\",\n",
    "        y_axis = y_data,\n",
    "        yaxis_index=0,\n",
    "        is_smooth=True,\n",
    "        is_symbol_show=False,\n",
    "    )\n",
    "    .set_global_opts(\n",
    "        title_opts=opts.TitleOpts(title=\"时间_数量\"),\n",
    "        tooltip_opts=opts.TooltipOpts(trigger=\"axis\"),\n",
    "        datazoom_opts=[\n",
    "            opts.DataZoomOpts(yaxis_index=0),\n",
    "            opts.DataZoomOpts(type_=\"inside\", yaxis_index=0),\n",
    "        ],\n",
    "        visualmap_opts=opts.VisualMapOpts(\n",
    "            pos_top=\"10\",\n",
    "            pos_right=\"10\",\n",
    "            is_piecewise=True,\n",
    "            pieces=[\n",
    "                {\"gt\": 0, \"lte\": 10, \"color\": \"#096\"},\n",
    "                {\"gt\": 10, \"lte\": 20, \"color\": \"#ffde33\"},\n",
    "                {\"gt\": 20, \"lte\": 30, \"color\": \"#ff9933\"},\n",
    "                {\"gt\": 30, \"lte\": 40, \"color\": \"#cc0033\"},\n",
    "                {\"gt\": 40, \"lte\": 50, \"color\": \"#660099\"},\n",
    "                {\"gt\": 50, \"color\": \"#7e0023\"},\n",
    "            ],\n",
    "            out_of_range={\"color\": \"#999\"},\n",
    "        ),\n",
    "        xaxis_opts=opts.AxisOpts(type_=\"category\"),\n",
    "        yaxis_opts=opts.AxisOpts(\n",
    "            type_=\"value\",\n",
    "            name_location=\"start\",\n",
    "            min_=0,\n",
    "            max_=50,\n",
    "            is_scale=True,\n",
    "            axistick_opts=opts.AxisTickOpts(is_inside=False),\n",
    "        ),\n",
    "    )\n",
    "    .set_series_opts(\n",
    "        markline_opts=opts.MarkLineOpts(\n",
    "            data=[\n",
    "                {\"yAxis\": 10},\n",
    "                {\"yAxis\": 20},\n",
    "                {\"yAxis\": 30},\n",
    "                {\"yAxis\": 40},\n",
    "                {\"yAxis\": 50},\n",
    "            ],\n",
    "            label_opts=opts.LabelOpts(position=\"end\"),\n",
    "        )\n",
    "    )\n",
    "    .render_notebook()\n",
    ")\n",
    "c"
   ]
  },
  {
   "cell_type": "code",
   "execution_count": null,
   "metadata": {},
   "outputs": [],
   "source": [
    "#筛选某一列值为规定值的行\n",
    "area = data[(data.诉求区域 == '崇明区')]\n",
    "area"
   ]
  },
  {
   "cell_type": "code",
   "execution_count": null,
   "metadata": {},
   "outputs": [],
   "source": [
    "#取原dataframe的一列或多列生成新的dataframe及csv文件\n",
    "test = pd.DataFrame({'来电日期':data.来电日期,'诉求区域':data.诉求区域})\n",
    "test.to_csv('test1126.csv', sep=',', header=True, index=False)"
   ]
  },
  {
   "cell_type": "code",
   "execution_count": null,
   "metadata": {},
   "outputs": [],
   "source": [
    "# 匹配在某两个特定字符之间的字符并筛选\n",
    "newdata = newdata.astype({'description':'str'})\n",
    "filter_condition = re.compile(r'完美日记(.*?)\\n',re.S)#匹配在两个特殊字符之间的字符\n",
    "filter_pd = newdata.description.apply(lambda x: filter_condition.findall(x)).tolist()\n",
    "newdata.insert(newdata.shape[1], 'filter_pd', filter_pd)\n",
    "newdata = newdata.astype({'filter_pd':'str'})\n",
    "pd = newdata.filter_pd.str.contains('\\*',case=False, na=False)#筛选包含特定字符的行\n",
    "output = newdata[pd]\n",
    "output"
   ]
  },
  {
   "cell_type": "code",
   "execution_count": null,
   "metadata": {},
   "outputs": [],
   "source": [
    "#新建一列，并按键值排序（可用于单位时间跨度的更改）\n",
    "ym = newdata.post_create_time.apply(lambda x:x[:7]).tolist()\n",
    "newdata.insert(newdata.shape[1], 'ym', ym)\n",
    "ym_num = Counter(newdata.ym)\n",
    "ym_num = dict(ym_num)\n",
    "ym_num = sorted(ym_num.items())\n",
    "ym_num"
   ]
  },
  {
   "cell_type": "code",
   "execution_count": null,
   "metadata": {
    "scrolled": true
   },
   "outputs": [],
   "source": [
    "##筛选包含规定字符的行\n",
    "guohuo = newdata.content.str.contains('国货',case=False, na=False)\n",
    "output = newdata[guohuo]\n",
    "output"
   ]
  },
  {
   "cell_type": "code",
   "execution_count": null,
   "metadata": {
    "scrolled": true
   },
   "outputs": [],
   "source": [
    "#按列统计\n",
    "keywords = data.nickname.value_counts()\n",
    "keywords.head(50)"
   ]
  },
  {
   "cell_type": "code",
   "execution_count": null,
   "metadata": {},
   "outputs": [],
   "source": [
    "#分层级计算kol_buzz\n",
    "t1 = newdata[newdata.粉丝数 >= 1000000]\n",
    "t2 = newdata[(newdata.粉丝数 >= 500000) & (newdata.粉丝数 < 1000000)]\n",
    "t3 = newdata[(newdata.粉丝数 >= 250000) & (newdata.粉丝数 < 500000)]\n",
    "t4 = newdata[(newdata.粉丝数 >= 100000) & (newdata.粉丝数 < 250000)]\n",
    "t5 = newdata[(newdata.粉丝数 >= 40000) & (newdata.粉丝数 < 100000)]\n",
    "print('t1有' + str(len(t1)) + '条')\n",
    "print('t2有' + str(len(t2)) + '条')\n",
    "print('t3有' + str(len(t3)) + '条')\n",
    "print('t4有' + str(len(t4)) + '条')\n",
    "print('t5有' + str(len(t5)) + '条')"
   ]
  },
  {
   "cell_type": "code",
   "execution_count": null,
   "metadata": {},
   "outputs": [],
   "source": [
    "#去重后分层级计算kol个数\n",
    "t1_quchong = t1.drop_duplicates('nickname')\n",
    "t2_quchong = t2.drop_duplicates('nickname')\n",
    "t3_quchong = t3.drop_duplicates('nickname')\n",
    "t4_quchong = t4.drop_duplicates('nickname')\n",
    "t5_quchong = t5.drop_duplicates('nickname')\n",
    "print('t1有' + str(len(t1_quchong)) + '人')\n",
    "print('t2有' + str(len(t2_quchong)) + '人')\n",
    "print('t3有' + str(len(t3_quchong)) + '人')\n",
    "print('t4有' + str(len(t4_quchong)) + '人')\n",
    "print('t5有' + str(len(t5_quchong)) + '人')"
   ]
  },
  {
   "cell_type": "code",
   "execution_count": null,
   "metadata": {},
   "outputs": [],
   "source": [
    "#计分层级算kol互动数\n",
    "print('t1互动数有' + str(sum(t1.互动数)))\n",
    "print('t2互动数有' + str(sum(t2.互动数)))\n",
    "print('t3互动数有' + str(sum(t3.互动数)))\n",
    "print('t4互动数有' + str(sum(t4.互动数)))\n",
    "print('t5互动数有' + str(sum(t5.互动数)))"
   ]
  },
  {
   "cell_type": "code",
   "execution_count": null,
   "metadata": {},
   "outputs": [],
   "source": [
    "#计算kol价格\n",
    "sum(t1.原创价格)\n",
    "sum(t2.原创价格)\n",
    "sum(t3.原创价格)\n",
    "sum(t4.原创价格)\n",
    "sum(t5.原创价格)\n",
    "print('t1共花费' + str(sum(t1.原创价格)))\n",
    "print('t2共花费' + str(sum(t2.原创价格)))\n",
    "print('t3共花费' + str(sum(t3.原创价格)))\n",
    "print('t4共花费' + str(sum(t4.原创价格)))\n",
    "print('t5共花费' + str(sum(t5.原创价格)))"
   ]
  },
  {
   "cell_type": "code",
   "execution_count": null,
   "metadata": {},
   "outputs": [],
   "source": [
    "#按列筛选，同时满足1个或多个条件\n",
    "aug5 = data[(data.来电日期 == '2020-08-05') & (data.内容分类4 == '物业维修添置')]  #若条件为或，则将&换成|（shift+竖线）\n",
    "aug5"
   ]
  },
  {
   "cell_type": "code",
   "execution_count": null,
   "metadata": {},
   "outputs": [],
   "source": [
    "#提取前n位字符\n",
    "time = data.来电日期.apply(lambda x:x[:10]).tolist()\n",
    "#提取后n位字符 （’-‘ 表示从后往前计数）\n",
    "#ymd = data.作品发布时间.apply(lambda x:x[-8:]).tolist()\n",
    "#提取中间位置字符\n",
    "#ymd = data.作品发布时间.apply(lambda x:x[5:10]).tolist()\n",
    "time"
   ]
  },
  {
   "cell_type": "code",
   "execution_count": null,
   "metadata": {},
   "outputs": [],
   "source": [
    "#折线图\n",
    "\n",
    "x_data = date.keys()\n",
    "y_data = date.values()\n",
    "\n",
    "c = (\n",
    "    Line()\n",
    "    .set_global_opts(\n",
    "        tooltip_opts=opts.TooltipOpts(is_show=False),\n",
    "        xaxis_opts=opts.AxisOpts(type_=\"category\"),\n",
    "        yaxis_opts=opts.AxisOpts(\n",
    "            type_=\"value\",\n",
    "            axistick_opts=opts.AxisTickOpts(is_show=True),\n",
    "            splitline_opts=opts.SplitLineOpts(is_show=True),\n",
    "        ),\n",
    "    )\n",
    "    .add_xaxis(xaxis_data=x_data)\n",
    "    .add_yaxis(\n",
    "        series_name=\"\",\n",
    "        y_axis=y_data,\n",
    "        symbol=\"emptyCircle\",\n",
    "        is_symbol_show=True,\n",
    "        label_opts=opts.LabelOpts(is_show=False),\n",
    "    )\n",
    "    .render_notebook()\n",
    ")\n",
    "c"
   ]
  },
  {
   "cell_type": "code",
   "execution_count": null,
   "metadata": {
    "scrolled": true
   },
   "outputs": [],
   "source": [
    "#文本长度\n",
    "length = data.作品内容.apply(lambda x: len(x))\n",
    "length = length.sort_values(ascending = False)\n",
    "length"
   ]
  },
  {
   "cell_type": "code",
   "execution_count": null,
   "metadata": {},
   "outputs": [],
   "source": [
    "#简单数据分析(计数,均值,标准差,最小值,1/4、1/2、3/4处值，最大值)\n",
    "length.describe()"
   ]
  },
  {
   "cell_type": "code",
   "execution_count": null,
   "metadata": {
    "scrolled": true
   },
   "outputs": [],
   "source": [
    "#规定文本及该文本出现某个词的次数\n",
    "numbers = newdata.content.apply(lambda x: x.count('国货'))\n",
    "words_numbers = pd.DataFrame({'content':newdata.content,'keywords_freq':numbers})\n",
    "words_numbers= words_numbers.sort_values(by=\"keywords_freq\" , ascending=False)\n",
    "words_numbers"
   ]
  },
   {
   "cell_type": "code",
   "execution_count": null,
   "metadata": {},
   "outputs": [],
   "source": [
    "'''筛选同时包含多个关键词的数据'''\n",
    "import pandas as pd\n",
    "import itertools\n",
    "\n",
    "data = pd.read_excel('C:\\\\Users\\\\yintu\\\\Desktop\\\\test_xss.xlsx', index_col=0)\n",
    "\n",
    "# 做笛卡尔积\n",
    "list1 = ['喷头', '喷嘴']\n",
    "list2 = ['好用', '难用']\n",
    "list3 = list(itertools.product(list1, list2))\n",
    "\n",
    "res = []\n",
    "for m in range(len(list3)):\n",
    "    test = data.content.apply(lambda x: all(i in x for i in list3[m]))\n",
    "    index = list(data.content[test].index)\n",
    "    res.append(index)\n",
    "\n",
    "res = sum(res, [])\n",
    "newdata = data.loc[res]\n",
    "newdata = newdata.sort_index()\n",
    "print(newdata)"
   ]
  }
 ],
 "metadata": {
  "kernelspec": {
   "display_name": "Python 3",
   "language": "python",
   "name": "python3"
  },
  "language_info": {
   "codemirror_mode": {
    "name": "ipython",
    "version": 3
   },
   "file_extension": ".py",
   "mimetype": "text/x-python",
   "name": "python",
   "nbconvert_exporter": "python",
   "pygments_lexer": "ipython3",
   "version": "3.8.8"
  }
 },
 "nbformat": 4,
 "nbformat_minor": 2
}
