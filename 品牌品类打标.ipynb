{
 "cells": [
  {
   "cell_type": "code",
   "execution_count": null,
   "metadata": {
    "scrolled": true
   },
   "outputs": [],
   "source": [
    "import requests\n",
    "import json\n",
    "import pandas as pd\n",
    "import re\n",
    "import ast\n",
    "\n",
    "#读取待处理文件\n",
    "data = pd.read_excel('香水UGC.xlsx')\n",
    "data = data.astype({'new_title':'str'})\n",
    "# data['new_title'] = data['new_title'].str.lower()\n",
    "\n",
    "#读取品牌词包\n",
    "with open(\"notes.json\",'r',encoding='utf8') as b:\n",
    "    brands = json.load(b)\n",
    "    brands = ast.literal_eval(str(brands).lower())\n",
    "    \n",
    "#读取品类词包\n",
    "with open(\"categories.json\",'r',encoding='utf8') as c:\n",
    "    categories = json.load(c)\n",
    "    categories = ast.literal_eval(str(categories).lower())"
   ]
  },
  {
   "cell_type": "code",
   "execution_count": null,
   "metadata": {},
   "outputs": [],
   "source": [
    "'''\n",
    "获取brand\n",
    "'''\n",
    "\n",
    "#获取所有values\n",
    "brands_all = []\n",
    "\n",
    "for brand in brands: \n",
    "    brands_all = brands_all + brands[brand]\n",
    "\n",
    "#获得对应的values\n",
    "brands_name = []\n",
    "title_src = []\n",
    "\n",
    "for title in data.new_title:\n",
    "    for a in brands_all:\n",
    "        if a in title:\n",
    "            title_src.append(title)\n",
    "            brands_name.append(a)\n",
    "        else:\n",
    "            title_src.append(title)\n",
    "            brands_name.append('null')\n",
    "\n",
    "#去重 仅返回第一个匹配到的brand   \n",
    "data_new = pd.DataFrame({'title':title_src,'brand':brands_name})\n",
    "# data_new = data_new.drop_duplicates(subset=['brand'])"
   ]
  },
  {
   "cell_type": "code",
   "execution_count": null,
   "metadata": {},
   "outputs": [],
   "source": [
    "data_new"
   ]
  },
  {
   "cell_type": "code",
   "execution_count": null,
   "metadata": {},
   "outputs": [],
   "source": [
    "#根据values获得keys\n",
    "brand_result = []\n",
    "\n",
    "for brand_name in data_new.brand:\n",
    "    for brand in brands: \n",
    "        brands_all = brands[brand] \n",
    "        if brand_name in brands_all:\n",
    "            brand_result.append(brand)\n",
    "        else:\n",
    "            brand_result.append('null')\n",
    "\n",
    "# # 于原始表格中导入结果\n",
    "# data_new.insert(data.shape[1], 'brand_new', brand_result)"
   ]
  },
  {
   "cell_type": "code",
   "execution_count": null,
   "metadata": {},
   "outputs": [],
   "source": []
  }
 ],
 "metadata": {
  "kernelspec": {
   "display_name": "Python 3",
   "language": "python",
   "name": "python3"
  },
  "language_info": {
   "codemirror_mode": {
    "name": "ipython",
    "version": 3
   },
   "file_extension": ".py",
   "mimetype": "text/x-python",
   "name": "python",
   "nbconvert_exporter": "python",
   "pygments_lexer": "ipython3",
   "version": "3.8.8"
  }
 },
 "nbformat": 4,
 "nbformat_minor": 2
}
