{
 "cells": [
  {
   "cell_type": "code",
   "execution_count": null,
   "metadata": {},
   "outputs": [],
   "source": [
    "import requests\n",
    "import json\n",
    "import pandas as pd\n",
    "import re\n",
    "\n",
    "data = pd.read_excel('地点对照_排序_0527.xlsx')\n",
    "\n",
    "address = []\n",
    "\n",
    "#构建地理编码请求url\n",
    "url = data.address_new.apply(lambda x:'http://api.map.baidu.com/geocoding/v3/?address=' \n",
    "                         + str(x) \n",
    "                         +'&output=json&ak=Oeums6Wp6lMQc8RawnId6el2MXGBwV6o&callback=showLocation').tolist()\n",
    "data.insert(data.shape[1], 'url', url)\n",
    "\n",
    "#获取经纬度\n",
    "address = data.url.apply(lambda x: requests.get(x))\n",
    "result = address.apply(lambda x:x.text)\n",
    "data.insert(data.shape[1], 'result', result)\n",
    "\n",
    "#整理结果\n",
    "# lng_condition = re.compile(r'\"lng\":(.*?),\"lat\":',re.S)\n",
    "# lng = data.result.apply(lambda x: lng_condition.findall(x))\n",
    "# lat_condition = re.compile(r'\"lat\":(.*?)}',re.S)\n",
    "# lat = data.result.apply(lambda x: lat_condition.findall(x))\n",
    "\n",
    "lng = data.result.apply(lambda x: x[67:85])\n",
    "lat = data.result.apply(lambda x: x[92:110])\n",
    "data.insert(data.shape[1], 'bd09_lng', lng)\n",
    "data.insert(data.shape[1], 'bd09_lat', lat)\n",
    "data = data.astype({'bd09_lng':'str'})\n",
    "data = data.astype({'bd09_lat':'str'})\n",
    "\n",
    "#删除无用列\n",
    "# data = data.drop(['result'],axis=1)\n",
    "data = data.drop(['url'],axis=1)\n",
    "\n",
    "#导出文件\n",
    "data.to_csv('经纬度.csv', encoding='utf_8',index = False)"
   ]
  },
  {
   "cell_type": "code",
   "execution_count": null,
   "metadata": {},
   "outputs": [],
   "source": [
    "address"
   ]
  },
  {
   "cell_type": "code",
   "execution_count": null,
   "metadata": {},
   "outputs": [],
   "source": [
    "data"
   ]
  },
  {
   "cell_type": "code",
   "execution_count": null,
   "metadata": {},
   "outputs": [],
   "source": [
    "from coord_convert.transform import wgs2gcj, wgs2bd, gcj2wgs, gcj2bd, bd2wgs, bd2gcj\n",
    "\n",
    "# data = pd.read_excel('地点对照_排序_0527.xlsx')\n",
    "\n",
    "#坐标系转换（禁止用wgs坐标系）\n",
    "for i in range(0,len(data)):\n",
    "    converted = bd2gcj(data.long[i], data.lat[i])\n",
    "    print(str(converted))\n",
    "#     with open('converted.txt', 'a') as f:\n",
    "#         print(str(converted))\n",
    "#         f.writelines(str(converted) + \"\\n\")"
   ]
  },
  {
   "cell_type": "code",
   "execution_count": null,
   "metadata": {},
   "outputs": [],
   "source": []
  }
 ],
 "metadata": {
  "kernelspec": {
   "display_name": "Python 3",
   "language": "python",
   "name": "python3"
  },
  "language_info": {
   "codemirror_mode": {
    "name": "ipython",
    "version": 3
   },
   "file_extension": ".py",
   "mimetype": "text/x-python",
   "name": "python",
   "nbconvert_exporter": "python",
   "pygments_lexer": "ipython3",
   "version": "3.8.8"
  }
 },
 "nbformat": 4,
 "nbformat_minor": 2
}
