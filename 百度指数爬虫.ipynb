{
 "cells": [
  {
   "cell_type": "code",
   "execution_count": null,
   "metadata": {},
   "outputs": [],
   "source": [
    "import requests\n",
    "import json\n",
    "\n",
    "headers = {\n",
    "    'User-agent':'Mozilla/5.0 (Macintosh; Intel Mac OS X 10_15_6) AppleWebKit/537.36 (KHTML, like Gecko) Chrome/85.0.4183.102 Safari/537.36',\n",
    "    'Cookie':'BAIDUID=F5C6E6A4128439919D605E13F106F667:FG=1; BDUSS=3hNVldtaTBaSC14R2YtUjE2OTJoa09TaUtlV353b0ROMXJyNEh0YXA0WkpiWVpmSVFBQUFBJCQAAAAAAAAAAAEAAABL1ECzTGxld3luXwAAAAAAAAAAAAAAAAAAAAAAAAAAAAAAAAAAAAAAAAAAAAAAAAAAAAAAAAAAAAAAAAAAAAAAAAAAAEngXl9J4F5fQ; BDUSS_BFESS=3hNVldtaTBaSC14R2YtUjE2OTJoa09TaUtlV353b0ROMXJyNEh0YXA0WkpiWVpmSVFBQUFBJCQAAAAAAAAAAAEAAABL1ECzTGxld3luXwAAAAAAAAAAAAAAAAAAAAAAAAAAAAAAAAAAAAAAAAAAAAAAAAAAAAAAAAAAAAAAAAAAAAAAAAAAAEngXl9J4F5fQ; PSTM=1600053611; BIDUPSID=5E043321FD608AD6B2CF85E2170EC649; BDORZ=B490B5EBF6F3CD402E515D22BCDA1598; delPer=0; PSINO=5; BDRCVFR[feWj1Vr5u3D]=I67x6TjHwwYf0; H_PS_PSSID=7506_32606_1420_7542_31253_7580_7629_32115_32719_32582; bdindexid=0ed9iq9gmhvjr3f4bgb6lj8314; RT=\"sl=2&ss=kf3ntdx4&tt=1qy&bcn=https%3A%2F%2Ffclog.baidu.com%2Flog%2Fweirwood%3Ftype%3Dperf&z=1&dm=baidu.com&si=pmfvksigq1&ld=2ca\"',\n",
    "    'Accept-Encoding': 'gzip, deflate, br',\n",
    "    'Accept-Language': 'en-US,en;q=0.9,zh-CN;q=0.8,zh;q=0.7'\n",
    "}"
   ]
  },
  {
   "cell_type": "code",
   "execution_count": null,
   "metadata": {},
   "outputs": [],
   "source": [
    "url = 'https://insight.baidu.com/base/search/rank/listByArea?pageSize=20&source=0&toFixed=0&filterType=1&dateType=20200801~20200831&dimensionid=84&rateType=1000&filterNodes=916%7C85&area=916'"
   ]
  },
  {
   "cell_type": "code",
   "execution_count": null,
   "metadata": {},
   "outputs": [],
   "source": [
    "req = requests.get(url,headers=headers)"
   ]
  },
  {
   "cell_type": "code",
   "execution_count": null,
   "metadata": {
    "scrolled": true
   },
   "outputs": [],
   "source": [
    "text = req.json()\n",
    "text"
   ]
  },
  {
   "cell_type": "code",
   "execution_count": null,
   "metadata": {
    "scrolled": true
   },
   "outputs": [],
   "source": [
    "text = text['data']['results']['current']\n",
    "text"
   ]
  },
  {
   "cell_type": "code",
   "execution_count": null,
   "metadata": {},
   "outputs": [],
   "source": [
    "import csv\n",
    "\n",
    "headers = ['id','item','value','rank','trend','occupy']\n",
    "\n",
    "with open('test.csv','w',newline='',encoding='utf_8_sig') as fp:\n",
    "    writer = csv.DictWriter(fp,headers)\n",
    "    writer.writeheader()\n",
    "    writer.writerows(text)"
   ]
  },
  {
   "cell_type": "code",
   "execution_count": null,
   "metadata": {},
   "outputs": [],
   "source": []
  }
 ],
 "metadata": {
  "kernelspec": {
   "display_name": "Python 3",
   "language": "python",
   "name": "python3"
  },
  "language_info": {
   "codemirror_mode": {
    "name": "ipython",
    "version": 3
   },
   "file_extension": ".py",
   "mimetype": "text/x-python",
   "name": "python",
   "nbconvert_exporter": "python",
   "pygments_lexer": "ipython3",
   "version": "3.8.8"
  }
 },
 "nbformat": 4,
 "nbformat_minor": 4
}
